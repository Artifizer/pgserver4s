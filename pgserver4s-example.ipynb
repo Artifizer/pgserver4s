{
 "cells": [
  {
   "cell_type": "code",
   "execution_count": null,
   "metadata": {},
   "outputs": [],
   "source": [
    "!pip install pgserver4s sqlalchemy psycopg2-binary sqlalchemy_utils"
   ]
  },
  {
   "cell_type": "code",
   "execution_count": null,
   "metadata": {},
   "outputs": [],
   "source": [
    "import pgserver4s\n",
    "srv = pgserver4s.get_server('./mypgdata')"
   ]
  },
  {
   "cell_type": "code",
   "execution_count": 3,
   "metadata": {},
   "outputs": [
    {
     "name": "stdout",
     "output_type": "stream",
     "text": [
      " res \n",
      "-----\n",
      "   2\n",
      "(1 row)\n",
      "\n",
      "\n"
     ]
    }
   ],
   "source": [
    "print(srv.psql('SELECT 1+1 as res;'))"
   ]
  },
  {
   "cell_type": "code",
   "execution_count": 4,
   "metadata": {},
   "outputs": [],
   "source": [
    "from sqlalchemy_utils import create_database, database_exists\n",
    "from sqlalchemy import create_engine\n",
    "import sqlalchemy as sql"
   ]
  },
  {
   "cell_type": "code",
   "execution_count": 5,
   "metadata": {},
   "outputs": [
    {
     "data": {
      "text/plain": [
       "'postgresql://postgres:@/mydb?host=/Users/orm/repos/pgserver/mypgdata'"
      ]
     },
     "metadata": {},
     "output_type": "display_data"
    }
   ],
   "source": [
    "dburi = srv.get_uri(database='mydb')\n",
    "display(dburi)\n",
    "if not database_exists(dburi):\n",
    "    create_database(dburi)\n",
    "engine = create_engine(dburi)"
   ]
  },
  {
   "cell_type": "code",
   "execution_count": 6,
   "metadata": {},
   "outputs": [],
   "source": [
    "table_name = 'mytable'\n",
    "with engine.connect() as conn:\n",
    "    conn.execute(sql.text(f\"create table {table_name} (id int);\"))\n",
    "    conn.execute(sql.text(f\"insert into {table_name} values (1);\"))\n",
    "    cur = conn.execute(sql.text(f\"select * from {table_name};\"))\n",
    "    result = cur.fetchone()"
   ]
  },
  {
   "cell_type": "code",
   "execution_count": 7,
   "metadata": {},
   "outputs": [
    {
     "data": {
      "text/plain": [
       "(1,)"
      ]
     },
     "execution_count": 7,
     "metadata": {},
     "output_type": "execute_result"
    }
   ],
   "source": [
    "result"
   ]
  }
 ],
 "metadata": {
  "kernelspec": {
   "display_name": "pixeltable_39",
   "language": "python",
   "name": "python3"
  },
  "language_info": {
   "codemirror_mode": {
    "name": "ipython",
    "version": 3
   },
   "file_extension": ".py",
   "mimetype": "text/x-python",
   "name": "python",
   "nbconvert_exporter": "python",
   "pygments_lexer": "ipython3",
   "version": "3.9.19"
  }
 },
 "nbformat": 4,
 "nbformat_minor": 2
}
